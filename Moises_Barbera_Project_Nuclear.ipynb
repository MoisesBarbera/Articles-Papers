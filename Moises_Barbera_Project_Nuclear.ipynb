{
 "cells": [
  {
   "cell_type": "markdown",
   "metadata": {},
   "source": [
    "#           Nuclear Physics - UNIVERSITY OF LIVERPOOL - PHYS392"
   ]
  },
  {
   "cell_type": "markdown",
   "metadata": {},
   "source": [
    "#### MOISES BARBERA RAMOS - STUDENT ID: 201168940 - 18/12/2019"
   ]
  },
  {
   "cell_type": "markdown",
   "metadata": {},
   "source": [
    "This project shows a study of data from a sample of radioactive waste Eu152 in a range between 4200 to 8000 as well as a study of this same dataset in a range from 1 to 800.\n",
    "\n",
    "Eu152 has a live time of 299.8 seconds.\n",
    "\n",
    "This study culminates with a statistical analysis of the data set and my estimated MDAs (Minimum Detectable Activity (in Bequerels)) for the four lines (peaks) that I have identified."
   ]
  },
  {
   "cell_type": "code",
   "execution_count": 1,
   "metadata": {},
   "outputs": [],
   "source": [
    "import numpy as np\n",
    "import math\n",
    "%matplotlib inline\n",
    "import matplotlib.pyplot as plt\n",
    "from scipy.io import  loadmat\n",
    "import pandas as pd\n",
    "from scipy.stats import norm, chi2\n",
    "from scipy.optimize import curve_fit\n",
    "import warnings\n",
    "warnings.filterwarnings(\"ignore\")"
   ]
  },
  {
   "cell_type": "code",
   "execution_count": 2,
   "metadata": {},
   "outputs": [
    {
     "data": {
      "text/plain": [
       "{'__globals__': [],\n",
       " '__header__': b'MATLAB 5.0 MAT-file, Platform: PCWIN64, Created on: Tue Nov 13 10:42:35 2012',\n",
       " '__version__': '1.0',\n",
       " 'channel2': array([1.000e+00, 2.000e+00, 3.000e+00, ..., 8.190e+03, 8.191e+03,\n",
       "        8.192e+03]),\n",
       " 'count2': array([0., 0., 0., ..., 0., 0., 0.]),\n",
       " 'energy2': array([-6.74183700e-03,  2.32697859e-01,  4.72137555e-01, ...,\n",
       "         1.96076493e+03,  1.96100437e+03,  1.96124381e+03])}"
      ]
     },
     "execution_count": 2,
     "metadata": {},
     "output_type": "execute_result"
    }
   ],
   "source": [
    "# Study the mat file components\n",
    "mat = loadmat('Eu152.mat', mat_dtype = True, squeeze_me = True)\n",
    "mat"
   ]
  },
  {
   "cell_type": "code",
   "execution_count": 3,
   "metadata": {},
   "outputs": [],
   "source": [
    "W = loadmat('Eu152.mat' , mat_dtype = True , squeeze_me = True)\n",
    "locals().update({k : W[k] for k in ['channel2', 'count2', 'energy2']})"
   ]
  },
  {
   "cell_type": "code",
   "execution_count": 4,
   "metadata": {},
   "outputs": [
    {
     "data": {
      "text/html": [
       "<div>\n",
       "<style scoped>\n",
       "    .dataframe tbody tr th:only-of-type {\n",
       "        vertical-align: middle;\n",
       "    }\n",
       "\n",
       "    .dataframe tbody tr th {\n",
       "        vertical-align: top;\n",
       "    }\n",
       "\n",
       "    .dataframe thead th {\n",
       "        text-align: right;\n",
       "    }\n",
       "</style>\n",
       "<table border=\"1\" class=\"dataframe\">\n",
       "  <thead>\n",
       "    <tr style=\"text-align: right;\">\n",
       "      <th></th>\n",
       "      <th>Channel</th>\n",
       "      <th>Count</th>\n",
       "      <th>Energy</th>\n",
       "    </tr>\n",
       "  </thead>\n",
       "  <tbody>\n",
       "    <tr>\n",
       "      <th>0</th>\n",
       "      <td>1.0</td>\n",
       "      <td>0.0</td>\n",
       "      <td>-0.006742</td>\n",
       "    </tr>\n",
       "    <tr>\n",
       "      <th>1</th>\n",
       "      <td>2.0</td>\n",
       "      <td>0.0</td>\n",
       "      <td>0.232698</td>\n",
       "    </tr>\n",
       "    <tr>\n",
       "      <th>2</th>\n",
       "      <td>3.0</td>\n",
       "      <td>0.0</td>\n",
       "      <td>0.472138</td>\n",
       "    </tr>\n",
       "    <tr>\n",
       "      <th>3</th>\n",
       "      <td>4.0</td>\n",
       "      <td>0.0</td>\n",
       "      <td>0.711577</td>\n",
       "    </tr>\n",
       "    <tr>\n",
       "      <th>4</th>\n",
       "      <td>5.0</td>\n",
       "      <td>0.0</td>\n",
       "      <td>0.951017</td>\n",
       "    </tr>\n",
       "  </tbody>\n",
       "</table>\n",
       "</div>"
      ],
      "text/plain": [
       "   Channel  Count    Energy\n",
       "0      1.0    0.0 -0.006742\n",
       "1      2.0    0.0  0.232698\n",
       "2      3.0    0.0  0.472138\n",
       "3      4.0    0.0  0.711577\n",
       "4      5.0    0.0  0.951017"
      ]
     },
     "execution_count": 4,
     "metadata": {},
     "output_type": "execute_result"
    }
   ],
   "source": [
    "# create dataframe to inspect better given data\n",
    "data = channel2, count2, energy2\n",
    "data\n",
    "df = pd.DataFrame(list(data))\n",
    "df_transposed = df.T # Transposes dataframe leading to 3 columns only\n",
    "\n",
    "headers = ['Channel', 'Count', 'Energy']  \n",
    "df_transposed.columns = headers      # Change the header name of each colun\n",
    "\n",
    "# After some calculations I found that around 21-29% of the counts in column count is 0\n",
    "df_transposed.head()"
   ]
  },
  {
   "cell_type": "code",
   "execution_count": 5,
   "metadata": {},
   "outputs": [
    {
     "data": {
      "text/html": [
       "<div>\n",
       "<style scoped>\n",
       "    .dataframe tbody tr th:only-of-type {\n",
       "        vertical-align: middle;\n",
       "    }\n",
       "\n",
       "    .dataframe tbody tr th {\n",
       "        vertical-align: top;\n",
       "    }\n",
       "\n",
       "    .dataframe thead th {\n",
       "        text-align: right;\n",
       "    }\n",
       "</style>\n",
       "<table border=\"1\" class=\"dataframe\">\n",
       "  <thead>\n",
       "    <tr style=\"text-align: right;\">\n",
       "      <th></th>\n",
       "      <th>Channel</th>\n",
       "      <th>Count</th>\n",
       "      <th>Energy</th>\n",
       "    </tr>\n",
       "  </thead>\n",
       "  <tbody>\n",
       "    <tr>\n",
       "      <th>4200</th>\n",
       "      <td>4201.0</td>\n",
       "      <td>30.0</td>\n",
       "      <td>1005.639982</td>\n",
       "    </tr>\n",
       "    <tr>\n",
       "      <th>4201</th>\n",
       "      <td>4202.0</td>\n",
       "      <td>19.0</td>\n",
       "      <td>1005.879421</td>\n",
       "    </tr>\n",
       "    <tr>\n",
       "      <th>4202</th>\n",
       "      <td>4203.0</td>\n",
       "      <td>5.0</td>\n",
       "      <td>1006.118861</td>\n",
       "    </tr>\n",
       "    <tr>\n",
       "      <th>4203</th>\n",
       "      <td>4204.0</td>\n",
       "      <td>5.0</td>\n",
       "      <td>1006.358301</td>\n",
       "    </tr>\n",
       "    <tr>\n",
       "      <th>4204</th>\n",
       "      <td>4205.0</td>\n",
       "      <td>7.0</td>\n",
       "      <td>1006.597740</td>\n",
       "    </tr>\n",
       "  </tbody>\n",
       "</table>\n",
       "</div>"
      ],
      "text/plain": [
       "      Channel  Count       Energy\n",
       "4200   4201.0   30.0  1005.639982\n",
       "4201   4202.0   19.0  1005.879421\n",
       "4202   4203.0    5.0  1006.118861\n",
       "4203   4204.0    5.0  1006.358301\n",
       "4204   4205.0    7.0  1006.597740"
      ]
     },
     "execution_count": 5,
     "metadata": {},
     "output_type": "execute_result"
    }
   ],
   "source": [
    "# Data Range E between 4200 to 8000\n",
    "\n",
    "df_range = df_transposed.iloc[4200:8001]\n",
    "df_range.head()"
   ]
  },
  {
   "cell_type": "code",
   "execution_count": 6,
   "metadata": {},
   "outputs": [],
   "source": [
    "# Detector efficiency and length of time the data were taken over\n",
    "# Variables for Energy (keV) = efficiency\n",
    "\n",
    "Energy_59_5 = 0.042293\n",
    "Energy_88_0 = 0.047077 \n",
    "Energy_1221_1 = 0.051100\n",
    "Energy_165_9 = 0.042985\n",
    "Energy_391_7 = 0.019621\n",
    "Energy_661_7 = 0.012586\n",
    "Energy_898_0 = 0.008659\n",
    "Energy_1173_2 = 0.006979\n",
    "Energy_1332_0 = 0.006235\n",
    "Energy_1836_1 = 0.005067"
   ]
  },
  {
   "cell_type": "code",
   "execution_count": 42,
   "metadata": {},
   "outputs": [],
   "source": [
    "# Channel only Range E between 4200 to 8000\n",
    "Channel_range = channel2[4200:8001]\n",
    "\n",
    "# Count only Range E between 4200 to 8000\n",
    "Count_range = count2[4200:8001]\n",
    "\n",
    "# Energy only Range E between 4200 to 8000\n",
    "Energy_range = energy2[4200:8001]"
   ]
  },
  {
   "cell_type": "code",
   "execution_count": 45,
   "metadata": {},
   "outputs": [
    {
     "data": {
      "image/png": "[encoded data removed]",
      "text/plain": [
       "<Figure size 432x288 with 1 Axes>"
      ]
     },
     "metadata": {},
     "output_type": "display_data"
    }
   ],
   "source": [
    "plt.plot(Channel_range, Count_range)         # Plot data with log in data y\n",
    "plt.tick_params(\n",
    "    axis='x',          # changes apply to the x-axis\n",
    "    which='both',      # both major and minor ticks are affected\n",
    "    bottom=False,      # ticks along the bottom edge are off\n",
    "    top=False,         # ticks along the top edge are off\n",
    "    labelbottom=False) # labels along the bottom edge are off\n",
    "plt.title('Eu152 channel between 4200 to 8000')\n",
    "#plt.xlabel('Channel')\n",
    "plt.ylabel('Number of counts')\n",
    "plt.savefig(\"Eu152_4200_8000(2).png\")"
   ]
  },
  {
   "cell_type": "code",
   "execution_count": 9,
   "metadata": {},
   "outputs": [
    {
     "data": {
      "text/plain": [
       "Text(0, 0.5, 'Number of counts (log)')"
      ]
     },
     "execution_count": 9,
     "metadata": {},
     "output_type": "execute_result"
    },
    {
     "data": {
      "image/png": "[encoded data removed]",
      "text/plain": [
       "<Figure size 432x288 with 1 Axes>"
      ]
     },
     "metadata": {},
     "output_type": "display_data"
    }
   ],
   "source": [
    "plt.semilogy(Energy_range, Count_range)\n",
    "plt.xlabel('Energy (keV)')\n",
    "plt.ylabel('Number of counts (log)')"
   ]
  },
  {
   "cell_type": "code",
   "execution_count": 10,
   "metadata": {},
   "outputs": [],
   "source": [
    "# Defined a new model containing the Gaussian peak observed in the data + the background\n",
    "def gaussian(x, A, mu, sigma, a, b):\n",
    "    return A*np.exp(-((x-mu)**2) / (2*(sigma**2))) + np.mean(range_bg)"
   ]
  },
  {
   "cell_type": "markdown",
   "metadata": {},
   "source": [
    "### Peak 1"
   ]
  },
  {
   "cell_type": "code",
   "execution_count": 11,
   "metadata": {},
   "outputs": [],
   "source": [
    "# Peak 1\n",
    "Channel_range_peak1 = channel2[4520:4560]\n",
    "Count_range_peak1 = count2[4520:4560]\n",
    "Energy_range_peak1 = energy2[4520:4560]"
   ]
  },
  {
   "cell_type": "code",
   "execution_count": 12,
   "metadata": {},
   "outputs": [
    {
     "name": "stdout",
     "output_type": "stream",
     "text": [
      "Fit value for A is: 268.137, for mu is: 4536.447, for sigma is: 2.404, for a is: 4520.000 and for b is: 9.000 \n"
     ]
    }
   ],
   "source": [
    "# Guessed values for [A, mu, sigma, a, b]\n",
    "A = 300     \n",
    "mu = 4538                       # guessed peak \n",
    "sigma = 2.5 \n",
    "a = 4520\n",
    "b = 9\n",
    "range_bg = count2[4520:4530]    #guessed background\n",
    "\n",
    "solu, cov = curve_fit(gaussian, Channel_range_peak1, Count_range_peak1, p0 = [A, mu, sigma, a, b])\n",
    "\n",
    "# Fitted values for [A, mu, sigma, a, b]\n",
    "A_fit = solu[0]\n",
    "mu_fit = solu[1]\n",
    "sigma_fit = solu [2]\n",
    "a_fit = solu[3]\n",
    "b_fit = solu[4]\n",
    "\n",
    "# Print fitted values\n",
    "print('Fit value for A is: {:.3f}, for mu is: {:.3f}, for sigma is: {:.3f}, for a is: {:.3f} and for b is: {:.3f} '\n",
    "      .format(A_fit, mu_fit, sigma_fit, a_fit, b_fit))\n",
    "\n",
    "# Print the gaussian fit and the data\n",
    "#plt.plot(Channel_range_peak1,  gaussian(Channel_range_peak1, A_fit, mu_fit, sigma_fit, a_fit, b_fit), 'k--', label = 'Fitted peak model')\n",
    "\n",
    "# Each chaannel separated by a 0.5 keV window so we can assume 0.5 error on channel\n",
    "# Channel number = Energy/0.2393 + 0.2462\n",
    "error_channel = 0.5\n",
    "error_counts_1 = Count_range_peak1**0.5\n",
    "#plt.errorbar(Channel_range_peak1, Count_range_peak1,  error_counts_1, error_channel, fmt = '.',  ecolor = 'r', label = 'data with error bars')"
   ]
  },
  {
   "cell_type": "code",
   "execution_count": 13,
   "metadata": {},
   "outputs": [
    {
     "name": "stdout",
     "output_type": "stream",
     "text": [
      "FWHM value = 5.7\n",
      "\n",
      "C =  1267.0\n",
      "\n",
      "B =  52.2\n",
      "\n",
      "Net number of counts N = 1214.8\n"
     ]
    },
    {
     "data": {
      "image/png": "[encoded data removed]",
      "text/plain": [
       "<Figure size 432x288 with 1 Axes>"
      ]
     },
     "metadata": {},
     "output_type": "display_data"
    }
   ],
   "source": [
    "FWHM = 2*((2*np.log(2))**0.5)*sigma_fit\n",
    "print('FWHM value = {:.1f}'.format(FWHM))\n",
    "print('')\n",
    "\n",
    "# Total number of counts\n",
    "# Peak region\n",
    "# FWHM approx. region\n",
    "peak_reg = list(count2)[list(channel2).index(int(mu_fit)-int(FWHM/2)-1):list(channel2).index(int(mu_fit)+int(FWHM/2)+1)]\n",
    "C = sum(peak_reg)\n",
    "print('C = ', C)\n",
    "print('')\n",
    "# Counts bg\n",
    "avg_bg = sum(range_bg)/len(range_bg)\n",
    "B = avg_bg*len(peak_reg)\n",
    "print('B = ', round(B,3))\n",
    "print('')\n",
    "# Net number of counts\n",
    "N = C - B\n",
    "print('Net number of counts N = {:.1f}'.format(N))\n",
    "\n",
    "fill_reg = list(channel2)[int(mu_fit)-int(FWHM/2)-1:(int(mu_fit)+int(FWHM/2)+1)]\n",
    "y2_fill = b_fit\n",
    "\n",
    "\n",
    "plt.semilogy(Channel_range_peak1,gaussian(Channel_range_peak1, A_fit, mu_fit, sigma_fit, a_fit, b_fit), 'k--', label = 'gaussian fit')\n",
    "plt.semilogy(Channel_range_peak1,[y2_fill]*len(Channel_range_peak1), 'y--', label = 'background fit')\n",
    "plt.fill_between(fill_reg,gaussian(fill_reg, A_fit, mu_fit, sigma_fit, a_fit, b_fit), y2_fill, color='r', label = 'FWHM signal', alpha = 0.5)\n",
    "plt.fill_between(fill_reg, y2_fill, color='b', label = 'FWHM bg')\n",
    "plt.errorbar(Channel_range_peak1, Count_range_peak1,  error_counts_1, error_channel, fmt = '.',  ecolor = 'r', label = 'data with error bars')\n",
    "\n",
    "plt.title('Eu152 channel between 4200 to 8000 peak 1')\n",
    "plt.xlabel('Channel')\n",
    "plt.ylabel('Counts (log)')\n",
    "plt.legend()\n",
    "plt.savefig(\"Eu152_4200_8000_peak1.png\")\n",
    "plt.show()"
   ]
  },
  {
   "cell_type": "markdown",
   "metadata": {},
   "source": [
    "#### Critical Limit"
   ]
  },
  {
   "cell_type": "code",
   "execution_count": 14,
   "metadata": {},
   "outputs": [
    {
     "name": "stdout",
     "output_type": "stream",
     "text": [
      "Critical Limit (Lc) = 16.808\n",
      "\n",
      "As N > Lc - because 1214.800 > 16.808\n",
      "\n",
      "Then the confidence limit = 1214.800 +/- 59.748\n"
     ]
    }
   ],
   "source": [
    "# The critical limit for a confidence og 95% is given by:\n",
    "Lc = 1.645*(2*B)**0.5\n",
    "print('Critical Limit (Lc) = {:.3f}'.format(Lc))\n",
    "print('')\n",
    "print('As N > Lc - because {:.3f} > {:.3f}'.format(N, Lc))\n",
    "print('')\n",
    "\n",
    "#Confidence Limit\n",
    "Sigma_N = (N + 2*B)**0.5\n",
    "Conf_lim_err = 1.645*Sigma_N\n",
    "print('Then the confidence limit = {:.3f} +/- {:.3f}'\n",
    "      .format(N, Conf_lim_err))"
   ]
  },
  {
   "cell_type": "markdown",
   "metadata": {},
   "source": [
    "#### Detection Limit"
   ]
  },
  {
   "cell_type": "code",
   "execution_count": 15,
   "metadata": {},
   "outputs": [
    {
     "name": "stdout",
     "output_type": "stream",
     "text": [
      "Detection limit = 36.306\n"
     ]
    }
   ],
   "source": [
    "# for Kα = Kβ = 1.645\n",
    "\n",
    "Ld = 2.71 + 4.65*(B)**0.5\n",
    "\n",
    "print('Detection limit = {:.3f}'.format(Ld))"
   ]
  },
  {
   "cell_type": "markdown",
   "metadata": {},
   "source": [
    "#### MDA"
   ]
  },
  {
   "cell_type": "code",
   "execution_count": 16,
   "metadata": {},
   "outputs": [
    {
     "name": "stdout",
     "output_type": "stream",
     "text": [
      "Energy range peak 1 between 1082.260684 and 1091.598833\n"
     ]
    }
   ],
   "source": [
    "# To know efficiency we need to know the energy range of our peak\n",
    "print('Energy range peak 1 between ' + str(list(Energy_range_peak1)[0]) + ' and ' + str(list(Energy_range_peak1)[-1]))"
   ]
  },
  {
   "cell_type": "code",
   "execution_count": 17,
   "metadata": {},
   "outputs": [
    {
     "name": "stdout",
     "output_type": "stream",
     "text": [
      "Minimum Detectable Activity = 17.352 Bq\n"
     ]
    }
   ],
   "source": [
    "# Knowing the energy range we know the efficiency of accelerator is between Energy_898_0 and Energy_1173_2\n",
    "eff_1 = 0.006979\n",
    "\n",
    "# Live time for Eu152 (s)\n",
    "t_Eu = 299.8\n",
    "\n",
    "# Branching ratio assume f = 1\n",
    "f = 1\n",
    "\n",
    "# Minimum Detectable Activity\n",
    "MDA = (Ld) / (t_Eu * eff_1 * f)\n",
    "\n",
    "print('Minimum Detectable Activity = {:.3f} Bq'.format(MDA))"
   ]
  },
  {
   "cell_type": "markdown",
   "metadata": {},
   "source": [
    "### Peak 2"
   ]
  },
  {
   "cell_type": "code",
   "execution_count": 18,
   "metadata": {},
   "outputs": [],
   "source": [
    "# Peak 2\n",
    "Channel_range_peak2 = channel2[4620:4670]\n",
    "Count_range_peak2 = count2[4620:4670]\n",
    "Energy_range_peak2 = energy2[4620:4670]"
   ]
  },
  {
   "cell_type": "code",
   "execution_count": 19,
   "metadata": {},
   "outputs": [
    {
     "name": "stdout",
     "output_type": "stream",
     "text": [
      "Fit value for A is: 293.922, for mu is: 4645.934, for sigma is: 2.577, for a is: 4620.000 and for b is: 8.000 \n",
      "\n",
      "FWHM value = 6.069\n",
      "\n",
      "C =  1634.0\n",
      "\n",
      "B =  63.2\n",
      "\n",
      "Net number of counts = 1570.8\n"
     ]
    },
    {
     "data": {
      "image/png": "[encoded data removed]",
      "text/plain": [
       "<Figure size 432x288 with 1 Axes>"
      ]
     },
     "metadata": {},
     "output_type": "display_data"
    }
   ],
   "source": [
    "# Guessed values for [A, mu, sigma, a, b]\n",
    "A = 300     \n",
    "mu = 4645   # guessed peak\n",
    "sigma = 2.5 \n",
    "a = 4620\n",
    "b = 8\n",
    "range_bg = count2[4620:4630]\n",
    "\n",
    "solu, cov = curve_fit(gaussian, Channel_range_peak2, Count_range_peak2, p0 = [A, mu, sigma, a, b])\n",
    "\n",
    "# Fitted values for [A, mu, sigma, a, b]\n",
    "A_fit = solu[0]\n",
    "mu_fit = solu[1]\n",
    "sigma_fit = solu [2]\n",
    "a_fit = solu[3]\n",
    "b_fit = solu[4]\n",
    "\n",
    "# Print fitted values\n",
    "print('Fit value for A is: {:.3f}, for mu is: {:.3f}, for sigma is: {:.3f}, for a is: {:.3f} and for b is: {:.3f} '\n",
    "      .format(A_fit, mu_fit, sigma_fit, a_fit, b_fit))\n",
    "print('')\n",
    "FWHM = 2*((2*np.log(2))**0.5)*sigma_fit\n",
    "print('FWHM value = {:.3f}'.format(FWHM))\n",
    "print('')\n",
    "\n",
    "# Print the gaussian fit and the data\n",
    "#plt.semilogy(Channel_range_peak2,  gaussian(Channel_range_peak2, A_fit, mu_fit, sigma_fit, a_fit, b_fit), 'k--', label = 'Fitted peak model')\n",
    "\n",
    "# Each chaannel separated by a 0.5 keV window so we can assume 0.5 error on channel\n",
    "# Channel number = Energy/0.2393 + 0.2462\n",
    "error_channel = 0.5\n",
    "error_counts_2 = Count_range_peak2**0.5\n",
    "#plt.errorbar(Channel_range_peak2, Count_range_peak2,  error_counts_2, error_channel, fmt = '.',  ecolor = 'r', label = 'error bars')\n",
    "\n",
    "# Total number of counts\n",
    "# Peak region\n",
    "# FWHM approx. region\n",
    "peak_reg = list(count2)[list(channel2).index(int(mu_fit)-int(FWHM/2)-1):list(channel2).index(int(mu_fit)+int(FWHM/2)+1)]\n",
    "C = sum(peak_reg)\n",
    "print('C = ', C)\n",
    "print('')\n",
    "\n",
    "# Counts bg\n",
    "avg_bg = sum(range_bg)/len(range_bg)\n",
    "B = avg_bg*len(peak_reg)\n",
    "print('B = ', round(B, 3))\n",
    "print('')\n",
    "\n",
    "# Net number of counts\n",
    "N = C - B\n",
    "print('Net number of counts = {:.1f}'.format(N))\n",
    "\n",
    "\n",
    "fill_reg = list(channel2)[int(mu_fit)-int(FWHM/2)-1:(int(mu_fit)+int(FWHM/2)+1)]\n",
    "y2_fill = b_fit\n",
    "\n",
    "\n",
    "plt.semilogy(Channel_range_peak2,gaussian(Channel_range_peak2, A_fit, mu_fit, sigma_fit, a_fit, b_fit), 'k--', label = 'gaussian fit')\n",
    "plt.semilogy(Channel_range_peak2,[y2_fill]*len(Channel_range_peak2), 'y--', label = 'background fit')\n",
    "plt.fill_between(fill_reg,gaussian(fill_reg, A_fit, mu_fit, sigma_fit, a_fit, b_fit), y2_fill, color='r', label = 'FWHM signal', alpha = 0.5)\n",
    "plt.fill_between(fill_reg, y2_fill, color='b', label = 'FWHM bg')\n",
    "plt.errorbar(Channel_range_peak2, Count_range_peak2,  error_counts_2, error_channel, fmt = '.',  ecolor = 'r', label = 'data with error bars')\n",
    "\n",
    "plt.title('Eu152 channel between 4200 to 8000 peak 2')\n",
    "plt.xlabel('Channel')\n",
    "plt.ylabel('Counts (log)')\n",
    "plt.legend()\n",
    "plt.savefig(\"Eu152_4200_8000_peak2.png\")\n",
    "plt.show()"
   ]
  },
  {
   "cell_type": "markdown",
   "metadata": {},
   "source": [
    "#### Critical Limit"
   ]
  },
  {
   "cell_type": "code",
   "execution_count": 20,
   "metadata": {},
   "outputs": [
    {
     "name": "stdout",
     "output_type": "stream",
     "text": [
      "Critical Limit (Lc) = 18.494\n",
      "\n",
      "As N > Lc - because 1570.800 > 18.494\n",
      "\n",
      "Then the confidence limit = 1570.800 +/- 67.769\n"
     ]
    }
   ],
   "source": [
    "# The critical limit for a confidence og 95% is given by:\n",
    "Lc = 1.645*(2*B)**0.5\n",
    "print('Critical Limit (Lc) = {:.3f}'.format(Lc))\n",
    "print('')\n",
    "print('As N > Lc - because {:.3f} > {:.3f}'.format(N, Lc))\n",
    "print('')\n",
    "\n",
    "#Confidence Limit\n",
    "Sigma_N = (N + 2*B)**0.5\n",
    "Conf_lim_err = 1.645*Sigma_N\n",
    "print('Then the confidence limit = {:.3f} +/- {:.3f}'.format(N, Conf_lim_err))"
   ]
  },
  {
   "cell_type": "markdown",
   "metadata": {},
   "source": [
    "#### Detection Limit"
   ]
  },
  {
   "cell_type": "code",
   "execution_count": 21,
   "metadata": {},
   "outputs": [
    {
     "name": "stdout",
     "output_type": "stream",
     "text": [
      "Detection limit = 39.677\n"
     ]
    }
   ],
   "source": [
    "# for Kα = Kβ = 1.645\n",
    "\n",
    "Ld = 2.71 + 4.65*(B)**0.5\n",
    "\n",
    "print('Detection limit = {:.3f}'.format(Ld))"
   ]
  },
  {
   "cell_type": "markdown",
   "metadata": {},
   "source": [
    "#### MDA"
   ]
  },
  {
   "cell_type": "code",
   "execution_count": 22,
   "metadata": {},
   "outputs": [
    {
     "name": "stdout",
     "output_type": "stream",
     "text": [
      "Energy range peak 2 between 1106.204654 and 1117.937199\n"
     ]
    }
   ],
   "source": [
    "# To know efficiency we need to know the energy range of our peak\n",
    "print('Energy range peak 2 between ' + str(list(Energy_range_peak2)[0]) + ' and ' + str(list(Energy_range_peak2)[-1]))"
   ]
  },
  {
   "cell_type": "code",
   "execution_count": 23,
   "metadata": {},
   "outputs": [
    {
     "name": "stdout",
     "output_type": "stream",
     "text": [
      "Minimum Detectable Activity = 18.963 Bq\n"
     ]
    }
   ],
   "source": [
    "# Knowing the energy range we know the efficiency of accelerator is between Energy_898_0 and Energy_1173_2\n",
    "eff_2 = 0.006979\n",
    "\n",
    "# Live time for Eu152 (s)\n",
    "t_Eu = 299.8\n",
    "\n",
    "# Branching ratio assume f = 1\n",
    "f = 1\n",
    "\n",
    "# Minimum Detectable Activity\n",
    "MDA = (Ld) / (t_Eu * eff_2 * f)\n",
    "\n",
    "print('Minimum Detectable Activity = {:.3f} Bq'.format(MDA))"
   ]
  },
  {
   "cell_type": "markdown",
   "metadata": {},
   "source": [
    "### Peak 3"
   ]
  },
  {
   "cell_type": "code",
   "execution_count": 115,
   "metadata": {},
   "outputs": [],
   "source": [
    "# Peak 3\n",
    "Channel_range_peak3 = channel2[5860:5900]\n",
    "Count_range_peak3 = count2[5860:5900]\n",
    "Energy_range_peak3 = energy2[5860:5900]"
   ]
  },
  {
   "cell_type": "code",
   "execution_count": 142,
   "metadata": {},
   "outputs": [
    {
     "name": "stdout",
     "output_type": "stream",
     "text": [
      "Fit value for A is: 300.187, for mu is: 5881.820, for sigma is: 2.845, for a is: 4620.000 and for b is: 0.800 \n",
      "\n",
      "FWHM value = 6.699\n",
      "\n",
      "C =  1734.0\n",
      "\n",
      "B =  6.4\n",
      "\n",
      "Net number of counts = 1727.6\n"
     ]
    },
    {
     "data": {
      "image/png": "[encoded data removed]",
      "text/plain": [
       "<Figure size 432x288 with 1 Axes>"
      ]
     },
     "metadata": {},
     "output_type": "display_data"
    }
   ],
   "source": [
    "# Guessed values for [A, mu, sigma, a, b]\n",
    "A = 300     \n",
    "mu = 5883   # guessed peak\n",
    "sigma = 2.5 \n",
    "a = 4620\n",
    "b = 0.8\n",
    "range_bg = count2[5800:5850]\n",
    "\n",
    "solu, cov = curve_fit(gaussian, Channel_range_peak3, Count_range_peak3, p0 = [A, mu, sigma, a, b])\n",
    "\n",
    "# Fitted values for [A, mu, sigma, a, b]\n",
    "A_fit = solu[0]\n",
    "mu_fit = solu[1]\n",
    "sigma_fit = solu [2]\n",
    "a_fit = solu[3]\n",
    "b_fit = solu[4]\n",
    "\n",
    "# Print fitted values\n",
    "print('Fit value for A is: {:.3f}, for mu is: {:.3f}, for sigma is: {:.3f}, for a is: {:.3f} and for b is: {:.3f} '\n",
    "      .format(A_fit, mu_fit, sigma_fit, a_fit, b_fit))\n",
    "print('')\n",
    "FWHM = 2*((2*np.log(2))**0.5)*sigma_fit\n",
    "print('FWHM value = {:.3f}'.format(FWHM))\n",
    "print('')\n",
    "\n",
    "# Print the gaussian fit and the data\n",
    "#plt.plot(Channel_range_peak3,  gaussian(Channel_range_peak3, A_fit, mu_fit, sigma_fit, a_fit, b_fit), 'k--', label = 'Fitted peak model')\n",
    "\n",
    "# Each chaannel separated by a 0.5 keV window so we can assume 0.5 error on channel\n",
    "# Channel number = Energy/0.2393 + 0.2462\n",
    "error_channel = 0.5\n",
    "error_counts_3 = Count_range_peak3**0.5\n",
    "#plt.errorbar(Channel_range_peak3, Count_range_peak3,  error_counts_3, error_channel, fmt = '.',  ecolor = 'r', label = 'error bars')\n",
    "\n",
    "# Total number of counts\n",
    "# Peak region\n",
    "# FWHM approx. region\n",
    "peak_reg = list(count2)[list(channel2).index(int(mu_fit)-int(FWHM/2)-1):list(channel2).index(int(mu_fit)+int(FWHM/2)+1)]\n",
    "C = sum(peak_reg)\n",
    "print('C = ', C)\n",
    "print('')\n",
    "\n",
    "# Counts bg\n",
    "avg_bg = sum(range_bg)/len(range_bg)\n",
    "B = avg_bg*len(peak_reg)\n",
    "print('B = ', B)\n",
    "print('')\n",
    "\n",
    "# Net number of counts\n",
    "N = C - B\n",
    "print('Net number of counts = {:.1f}'.format(N))\n",
    "\n",
    "fill_reg = list(channel2)[int(mu_fit)-int(FWHM/2)-1:(int(mu_fit)+int(FWHM/2)+1)]\n",
    "y2_fill = b_fit\n",
    "\n",
    "plt.semilogy(Channel_range_peak3,gaussian(Channel_range_peak3, A_fit, mu_fit, sigma_fit, a_fit, b_fit), 'k--', label = 'gaussian fit')\n",
    "plt.semilogy(Channel_range_peak3,[y2_fill]*len(Channel_range_peak3), 'y--', label = 'background fit')\n",
    "plt.fill_between(fill_reg,gaussian(fill_reg, A_fit, mu_fit, sigma_fit, a_fit, b_fit), y2_fill, color='r', label = 'FWHM signal', alpha = 0.5)\n",
    "plt.fill_between(fill_reg, y2_fill, color='b', label = 'FWHM bg')\n",
    "plt.errorbar(Channel_range_peak3, Count_range_peak3,  error_counts_3, error_channel, fmt = '.',  ecolor = 'r', label = 'data with error bars')\n",
    "\n",
    "plt.title('Eu152 channel between 4200 to 8000 peak 3')\n",
    "plt.xlabel('Channel')\n",
    "plt.ylabel('Counts (log)')\n",
    "plt.legend()\n",
    "plt.savefig(\"Eu152_4200_8000_peak3.png\")\n",
    "plt.show()"
   ]
  },
  {
   "cell_type": "markdown",
   "metadata": {},
   "source": [
    "#### Critical Limit"
   ]
  },
  {
   "cell_type": "code",
   "execution_count": 143,
   "metadata": {},
   "outputs": [
    {
     "name": "stdout",
     "output_type": "stream",
     "text": [
      "Critical Limit (Lc) = 5.885\n",
      "\n",
      "As N > Lc - because 1727.600 > 5.885\n",
      "\n",
      "Then the confidence limit = 1727.600 +/- 68.626\n"
     ]
    }
   ],
   "source": [
    "# The critical limit for a confidence og 95% is given by:\n",
    "Lc = 1.645*(2*B)**0.5\n",
    "print('Critical Limit (Lc) = {:.3f}'.format(Lc))\n",
    "print('')\n",
    "print('As N > Lc - because {:.3f} > {:.3f}'.format(N, Lc))\n",
    "print('')\n",
    "\n",
    "#Confidence Limit\n",
    "Sigma_N = (N + 2*B)**0.5\n",
    "Conf_lim_err = 1.645*Sigma_N\n",
    "print('Then the confidence limit = {:.3f} +/- {:.3f}'.format(N, Conf_lim_err))"
   ]
  },
  {
   "cell_type": "markdown",
   "metadata": {},
   "source": [
    "#### Detection Limit"
   ]
  },
  {
   "cell_type": "code",
   "execution_count": 144,
   "metadata": {},
   "outputs": [
    {
     "name": "stdout",
     "output_type": "stream",
     "text": [
      "Detection limit = 14.474\n"
     ]
    }
   ],
   "source": [
    "# for Kα = Kβ = 1.645\n",
    "\n",
    "Ld = 2.71 + 4.65*(B)**0.5\n",
    "\n",
    "print('Detection limit = {:.3f}'.format(Ld))"
   ]
  },
  {
   "cell_type": "markdown",
   "metadata": {},
   "source": [
    "#### MDA"
   ]
  },
  {
   "cell_type": "code",
   "execution_count": 145,
   "metadata": {},
   "outputs": [
    {
     "name": "stdout",
     "output_type": "stream",
     "text": [
      "Energy range peak 3 between 1403.109877 and 1412.448025\n"
     ]
    }
   ],
   "source": [
    "# To know efficiency we need to know the energy range of our peak\n",
    "print('Energy range peak 3 between ' + str(list(Energy_range_peak3)[0]) + ' and ' + str(list(Energy_range_peak3)[-1]))"
   ]
  },
  {
   "cell_type": "code",
   "execution_count": 146,
   "metadata": {},
   "outputs": [
    {
     "name": "stdout",
     "output_type": "stream",
     "text": [
      "Minimum Detectable Activity = 9.528 Bq\n"
     ]
    }
   ],
   "source": [
    "# Knowing the energy range we know the efficiency of accelerator is between Energy_1332_0 and Energy_1836_1\n",
    "eff_3 = 0.005067\n",
    "\n",
    "# Live time for Eu152 (s)\n",
    "t_Eu = 299.8\n",
    "\n",
    "# Branching ratio assume f = 1\n",
    "f = 1\n",
    "\n",
    "# Minimum Detectable Activity\n",
    "MDA = (Ld) / (t_Eu * eff_3 * f)\n",
    "\n",
    "print('Minimum Detectable Activity = {:.3f} Bq'.format(MDA))"
   ]
  },
  {
   "cell_type": "code",
   "execution_count": null,
   "metadata": {},
   "outputs": [],
   "source": []
  },
  {
   "cell_type": "markdown",
   "metadata": {},
   "source": [
    "## 1 to 800 range"
   ]
  },
  {
   "cell_type": "code",
   "execution_count": 147,
   "metadata": {},
   "outputs": [
    {
     "data": {
      "text/html": [
       "<div>\n",
       "<style scoped>\n",
       "    .dataframe tbody tr th:only-of-type {\n",
       "        vertical-align: middle;\n",
       "    }\n",
       "\n",
       "    .dataframe tbody tr th {\n",
       "        vertical-align: top;\n",
       "    }\n",
       "\n",
       "    .dataframe thead th {\n",
       "        text-align: right;\n",
       "    }\n",
       "</style>\n",
       "<table border=\"1\" class=\"dataframe\">\n",
       "  <thead>\n",
       "    <tr style=\"text-align: right;\">\n",
       "      <th></th>\n",
       "      <th>Channel</th>\n",
       "      <th>Count</th>\n",
       "      <th>Energy</th>\n",
       "    </tr>\n",
       "  </thead>\n",
       "  <tbody>\n",
       "    <tr>\n",
       "      <th>795</th>\n",
       "      <td>796.0</td>\n",
       "      <td>78.0</td>\n",
       "      <td>190.347816</td>\n",
       "    </tr>\n",
       "    <tr>\n",
       "      <th>796</th>\n",
       "      <td>797.0</td>\n",
       "      <td>70.0</td>\n",
       "      <td>190.587256</td>\n",
       "    </tr>\n",
       "    <tr>\n",
       "      <th>797</th>\n",
       "      <td>798.0</td>\n",
       "      <td>74.0</td>\n",
       "      <td>190.826696</td>\n",
       "    </tr>\n",
       "    <tr>\n",
       "      <th>798</th>\n",
       "      <td>799.0</td>\n",
       "      <td>80.0</td>\n",
       "      <td>191.066136</td>\n",
       "    </tr>\n",
       "    <tr>\n",
       "      <th>799</th>\n",
       "      <td>800.0</td>\n",
       "      <td>76.0</td>\n",
       "      <td>191.305575</td>\n",
       "    </tr>\n",
       "  </tbody>\n",
       "</table>\n",
       "</div>"
      ],
      "text/plain": [
       "     Channel  Count      Energy\n",
       "795    796.0   78.0  190.347816\n",
       "796    797.0   70.0  190.587256\n",
       "797    798.0   74.0  190.826696\n",
       "798    799.0   80.0  191.066136\n",
       "799    800.0   76.0  191.305575"
      ]
     },
     "execution_count": 147,
     "metadata": {},
     "output_type": "execute_result"
    }
   ],
   "source": [
    "# Data Range between 1 to 800\n",
    "\n",
    "df_range = df_transposed.iloc[:800]\n",
    "df_range.tail()"
   ]
  },
  {
   "cell_type": "code",
   "execution_count": 148,
   "metadata": {},
   "outputs": [],
   "source": [
    "# Channel only Range between 1 to 800\n",
    "Channel_range = channel2[:800]\n",
    "\n",
    "# Count only Range between 1 to 800\n",
    "Count_range = count2[:800]\n",
    "\n",
    "# Energy only Range between 1 to 800\n",
    "Energy_range = energy2[:800]"
   ]
  },
  {
   "cell_type": "code",
   "execution_count": 149,
   "metadata": {},
   "outputs": [
    {
     "data": {
      "image/png": "[encoded data removed]",
      "text/plain": [
       "<Figure size 432x288 with 1 Axes>"
      ]
     },
     "metadata": {},
     "output_type": "display_data"
    },
    {
     "data": {
      "text/plain": [
       "<Figure size 432x288 with 0 Axes>"
      ]
     },
     "metadata": {},
     "output_type": "display_data"
    }
   ],
   "source": [
    "plt.semilogy(Channel_range, Count_range)\n",
    "plt.title('Eu152 channel between 1 to 800')\n",
    "plt.xlabel('Channel')\n",
    "plt.ylabel('Number of counts (log)')\n",
    "plt.show()\n",
    "plt.savefig(\"Eu152_1_800.png\")"
   ]
  },
  {
   "cell_type": "markdown",
   "metadata": {},
   "source": [
    "#### Single strongest peak"
   ]
  },
  {
   "cell_type": "code",
   "execution_count": 157,
   "metadata": {},
   "outputs": [],
   "source": [
    "# Peak 1\n",
    "Channel_range_peak = channel2[500:520]\n",
    "Count_range_peak = count2[500:520]\n",
    "Energy_range_peak = energy2[500:520]"
   ]
  },
  {
   "cell_type": "code",
   "execution_count": 158,
   "metadata": {},
   "outputs": [
    {
     "name": "stdout",
     "output_type": "stream",
     "text": [
      "Fit value for A is: 13807.440, for mu is: 509.440, for sigma is: 1.094, for a is: 0.500 and for b is: 100.000 \n"
     ]
    }
   ],
   "source": [
    "# Guessed values for [A, mu, sigma, a, b]\n",
    "A = 30000     \n",
    "mu = 500   # guessed peak \n",
    "sigma = 150\n",
    "a = 0.5\n",
    "b = 100\n",
    "range_bg = count2[400:480]    #guessed background\n",
    "\n",
    "solu, cov = curve_fit(gaussian, Channel_range_peak, Count_range_peak, p0 = [A, mu, sigma, a, b])\n",
    "\n",
    "# Fitted values for [A, mu, sigma, a, b]\n",
    "A_fit = solu[0]\n",
    "mu_fit = solu[1]\n",
    "sigma_fit = solu [2]\n",
    "a_fit = solu[3]\n",
    "b_fit = solu[4]\n",
    "\n",
    "# Print fitted values\n",
    "print('Fit value for A is: {:.3f}, for mu is: {:.3f}, for sigma is: {:.3f}, for a is: {:.3f} and for b is: {:.3f} '\n",
    "      .format(A_fit, mu_fit, sigma_fit, a_fit, b_fit))\n",
    "\n",
    "# Print the gaussian fit and the data\n",
    "#plt.plot(Channel_range_peak1,  gaussian(Channel_range_peak1, A_fit, mu_fit, sigma_fit, a_fit, b_fit), 'k--', label = 'Fitted peak model')\n",
    "\n",
    "# Each chaannel separated by a 0.5 keV window so we can assume 0.5 error on channel\n",
    "# Channel number = Energy/0.2393 + 0.2462\n",
    "error_channel = 0.5\n",
    "error_counts = Count_range_peak**0.5\n",
    "#plt.errorbar(Channel_range_peak1, Count_range_peak1,  error_counts_1, error_channel, fmt = '.',  ecolor = 'r', label = 'data with error bars')"
   ]
  },
  {
   "cell_type": "code",
   "execution_count": 159,
   "metadata": {},
   "outputs": [
    {
     "name": "stdout",
     "output_type": "stream",
     "text": [
      "FWHM value = 2.6\n",
      "\n",
      "C =  32260.0\n",
      "\n",
      "B =  413.1\n",
      "\n",
      "Net number of counts N = 31846.9\n"
     ]
    },
    {
     "data": {
      "image/png": "[encoded data removed]",
      "text/plain": [
       "<Figure size 432x288 with 1 Axes>"
      ]
     },
     "metadata": {},
     "output_type": "display_data"
    }
   ],
   "source": [
    "FWHM = 2*((2*np.log(2))**0.5)*sigma_fit\n",
    "print('FWHM value = {:.1f}'.format(FWHM))\n",
    "print('')\n",
    "\n",
    "# Total number of counts\n",
    "# Peak region\n",
    "# FWHM approx. region\n",
    "peak_reg = list(count2)[list(channel2).index(int(mu_fit)-int(abs(FWHM)/2)-1):list(channel2).index(int(mu_fit)+int(abs(FWHM)/2)+1)]\n",
    "C = sum(peak_reg)\n",
    "print('C = ', C)\n",
    "print('')\n",
    "# Counts bg\n",
    "avg_bg = sum(range_bg)/len(range_bg)\n",
    "B = avg_bg*len(peak_reg)\n",
    "print('B = ', round(B,3))\n",
    "print('')\n",
    "# Net number of counts\n",
    "N = C - B\n",
    "print('Net number of counts N = {:.1f}'.format(N))\n",
    "\n",
    "fill_reg = list(channel2)[int(mu_fit)-int(FWHM/2)-1:(int(mu_fit)+int(FWHM/2)+1)]\n",
    "y2_fill = b_fit\n",
    "\n",
    "\n",
    "plt.semilogy(Channel_range_peak,gaussian(Channel_range_peak, A_fit, mu_fit, sigma_fit, a_fit, b_fit), 'k--', label = 'gaussian fit')\n",
    "plt.semilogy(Channel_range_peak,[y2_fill]*len(Channel_range_peak), 'y--', label = 'background fit')\n",
    "plt.fill_between(fill_reg,gaussian(fill_reg, A_fit, mu_fit, sigma_fit, a_fit, b_fit), y2_fill, color='r', label = 'FWHM signal', alpha = 0.5)\n",
    "plt.fill_between(fill_reg, y2_fill, color='b', label = 'FWHM bg')\n",
    "plt.errorbar(Channel_range_peak, Count_range_peak,  error_counts, error_channel, fmt = '.',  ecolor = 'r', label = 'data with error bars')\n",
    "\n",
    "plt.title('Eu152 channel between 1 to 800 strong peak')\n",
    "plt.xlabel('Channel')\n",
    "plt.ylabel('Counts (log)')\n",
    "plt.legend()\n",
    "plt.savefig(\"Eu152_1_800_peak(1).png\")\n",
    "plt.show()"
   ]
  },
  {
   "cell_type": "markdown",
   "metadata": {},
   "source": [
    "#### Critical Limit"
   ]
  },
  {
   "cell_type": "code",
   "execution_count": 160,
   "metadata": {},
   "outputs": [
    {
     "name": "stdout",
     "output_type": "stream",
     "text": [
      "Critical Limit (Lc) = 47.283\n",
      "\n",
      "As N > Lc - because 31846.900 > 47.283\n",
      "\n",
      "Then the confidence limit = 31846.900 +/- 297.345\n"
     ]
    }
   ],
   "source": [
    "# The critical limit for a confidence og 95% is given by:\n",
    "Lc = 1.645*(2*B)**0.5\n",
    "print('Critical Limit (Lc) = {:.3f}'.format(Lc))\n",
    "print('')\n",
    "print('As N > Lc - because {:.3f} > {:.3f}'.format(N, Lc))\n",
    "print('')\n",
    "\n",
    "#Confidence Limit\n",
    "Sigma_N = (N + 2*B)**0.5\n",
    "Conf_lim_err = 1.645*Sigma_N\n",
    "print('Then the confidence limit = {:.3f} +/- {:.3f}'.format(N, Conf_lim_err))"
   ]
  },
  {
   "cell_type": "markdown",
   "metadata": {},
   "source": [
    "#### Detection Limit"
   ]
  },
  {
   "cell_type": "code",
   "execution_count": 161,
   "metadata": {},
   "outputs": [
    {
     "name": "stdout",
     "output_type": "stream",
     "text": [
      "Detection limit = 97.221\n"
     ]
    }
   ],
   "source": [
    "# for Kα = Kβ = 1.645\n",
    "\n",
    "Ld = 2.71 + 4.65*(B)**0.5\n",
    "\n",
    "print('Detection limit = {:.3f}'.format(Ld))"
   ]
  },
  {
   "cell_type": "markdown",
   "metadata": {},
   "source": [
    "#### MDA"
   ]
  },
  {
   "cell_type": "code",
   "execution_count": 162,
   "metadata": {},
   "outputs": [
    {
     "name": "stdout",
     "output_type": "stream",
     "text": [
      "Energy range strong peak between 119.7131062 and 124.2624604\n"
     ]
    }
   ],
   "source": [
    "# To know efficiency we need to know the energy range of our peak\n",
    "print('Energy range strong peak between ' + str(list(Energy_range_peak)[0]) + ' and ' + str(list(Energy_range_peak)[-1]))"
   ]
  },
  {
   "cell_type": "code",
   "execution_count": 163,
   "metadata": {},
   "outputs": [
    {
     "name": "stdout",
     "output_type": "stream",
     "text": [
      "Minimum Detectable Activity = 6.888 Bq\n"
     ]
    }
   ],
   "source": [
    "# Knowing the energy range we know the efficiency of accelerator\n",
    "eff = 0.047077\n",
    "\n",
    "# Live time for Eu152 (s)\n",
    "t_Eu = 299.8\n",
    "\n",
    "# Branching ratio assume f = 1\n",
    "f = 1\n",
    "\n",
    "# Minimum Detectable Activity\n",
    "MDA = (Ld) / (t_Eu * eff * f)\n",
    "\n",
    "print('Minimum Detectable Activity = {:.3f} Bq'.format(MDA))"
   ]
  },
  {
   "cell_type": "code",
   "execution_count": null,
   "metadata": {},
   "outputs": [],
   "source": []
  },
  {
   "cell_type": "code",
   "execution_count": null,
   "metadata": {},
   "outputs": [],
   "source": []
  }
 ],
 "metadata": {
  "kernelspec": {
   "display_name": "Python 3",
   "language": "python",
   "name": "python3"
  },
  "language_info": {
   "codemirror_mode": {
    "name": "ipython",
    "version": 3
   },
   "file_extension": ".py",
   "mimetype": "text/x-python",
   "name": "python",
   "nbconvert_exporter": "python",
   "pygments_lexer": "ipython3",
   "version": "3.5.6"
  }
 },
 "nbformat": 4,
 "nbformat_minor": 2
}
